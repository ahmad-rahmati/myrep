{
 "cells": [
  {
   "cell_type": "code",
   "execution_count": 5,
   "metadata": {},
   "outputs": [],
   "source": [
    "def two_string(str1 , str2):\n",
    "    if not isinstance(str1 , str) or not isinstance(str2, str):\n",
    "        raise ValueError('str1 and str2 must be strings.')\n",
    "        \n",
    "    if len(str1) != len(str2):\n",
    "        print('The length of two strings is not equal.')\n",
    "        return False\n",
    "    \n",
    "    first_str = str1.lower()\n",
    "    second_str = str2.lower()\n",
    "    \n",
    "    for l in first_str:\n",
    "        if l not in second_str:\n",
    "            return False\n",
    "        count=0\n",
    "        for i in range(len(second_str)):\n",
    "            if count==0 and second_str[i] == l:\n",
    "                count = 1\n",
    "                second_str = second_str[:i] + second_str[i+1:]\n",
    "    return True"
   ]
  },
  {
   "cell_type": "code",
   "execution_count": 6,
   "metadata": {},
   "outputs": [
    {
     "data": {
      "text/plain": [
       "True"
      ]
     },
     "execution_count": 6,
     "metadata": {},
     "output_type": "execute_result"
    }
   ],
   "source": [
    "two_string('Ard 1.2' , '2.1 dar')"
   ]
  },
  {
   "cell_type": "code",
   "execution_count": null,
   "metadata": {},
   "outputs": [],
   "source": []
  }
 ],
 "metadata": {
  "kernelspec": {
   "display_name": "Python 3",
   "language": "python",
   "name": "python3"
  },
  "language_info": {
   "codemirror_mode": {
    "name": "ipython",
    "version": 3
   },
   "file_extension": ".py",
   "mimetype": "text/x-python",
   "name": "python",
   "nbconvert_exporter": "python",
   "pygments_lexer": "ipython3",
   "version": "3.7.3"
  }
 },
 "nbformat": 4,
 "nbformat_minor": 4
}
